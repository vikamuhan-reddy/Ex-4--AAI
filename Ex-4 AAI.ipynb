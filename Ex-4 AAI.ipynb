{
 "cells": [
  {
   "cell_type": "code",
   "execution_count": null,
   "metadata": {},
   "outputs": [],
   "source": [
    "import numpy as np\n",
    "\n",
    "\n",
    "# Define the transition matrix\n",
    "transition_matrix =np.array([[0.7,0.3],[0.4,0.6]])"
   ]
  },
  {
   "cell_type": "code",
   "execution_count": null,
   "metadata": {},
   "outputs": [],
   "source": [
    "# Define the emission matrix\n",
    "emission_matrix =np.array ([[0.1,0.9],[0.8,0.2]])"
   ]
  },
  {
   "cell_type": "code",
   "execution_count": null,
   "metadata": {},
   "outputs": [],
   "source": [
    "# Define the initial probabilities\n",
    "initial_probabilities = np.array([0.5,0.5])"
   ]
  },
  {
   "cell_type": "code",
   "execution_count": null,
   "metadata": {},
   "outputs": [],
   "source": [
    "# Define the observed sequence\n",
    "observed_sequence = np.array([1,1,1,0,0,1])"
   ]
  },
  {
   "cell_type": "code",
   "execution_count": null,
   "metadata": {},
   "outputs": [],
   "source": [
    "# Initialize the alpha matrix\n",
    "alpha = np. zeros ((len(observed_sequence) ,len (initial_probabilities) ) )"
   ]
  },
  {
   "cell_type": "code",
   "execution_count": null,
   "metadata": {},
   "outputs": [],
   "source": [
    "# Calculate the first row of the alpha matrix\n",
    "alpha [0,:] = initial_probabilities *emission_matrix[:, observed_sequence [0]]"
   ]
  },
  {
   "cell_type": "code",
   "execution_count": null,
   "metadata": {},
   "outputs": [],
   "source": [
    "# Loop through the rest of the observed sequence and calculate the rest of the alpha matrix\n",
    "for t in range (1, len (observed_sequence) ) :\n",
    "  for j in range (len (initial_probabilities) ) :\n",
    "    alpha[t,j]= emission_matrix [j,observed_sequence[t]] *np.sum(alpha[t-1:]*transition_matrix[:, j])"
   ]
  },
  {
   "cell_type": "code",
   "execution_count": null,
   "metadata": {},
   "outputs": [],
   "source": [
    "# Calculate the probability of the observed sequence\n",
    "probability = np.sum(alpha[-1,:])"
   ]
  },
  {
   "cell_type": "code",
   "execution_count": null,
   "metadata": {},
   "outputs": [],
   "source": [
    "# Print the probability of the observed sequence\n",
    "print (\"The probability of the observed sequence is: \" ,probability)"
   ]
  },
  {
   "cell_type": "code",
   "execution_count": null,
   "metadata": {},
   "outputs": [],
   "source": [
    "# Find the most likely sequence of weather states given the observed sequence\n",
    "most_likely_sequence=[]\n",
    "for t in range (len (observed_sequence)):\n",
    "  if alpha [t, 0] > alpha [t,1]:\n",
    "    most_likely_sequence.append (\"sunny\")\n",
    "  else:\n",
    "    most_likely_sequence.append (\"rainy\")\n",
    "\n"
   ]
  },
  {
   "cell_type": "code",
   "execution_count": null,
   "metadata": {},
   "outputs": [],
   "source": [
    "# Print the most likely sequence of weather states\n",
    "print(\"The most likely sequence of Weather States is\",most_likely_sequence)"
   ]
  }
 ],
 "metadata": {
  "kernelspec": {
   "display_name": "Python 3",
   "language": "python",
   "name": "python3"
  },
  "language_info": {
   "name": "python",
   "version": "3.12.3"
  }
 },
 "nbformat": 4,
 "nbformat_minor": 2
}
